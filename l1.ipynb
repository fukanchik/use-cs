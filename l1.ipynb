{
    "metadata": {
        "name": ""
    },
    "nbformat": 4,
    "nbformat_minor": 0,
     "cells": [
            {
                "cell_type": "markdown",
                "metadata": {},
                "source": [
                    "== Informaciya i eyo kodirovanije"
                ]
            }
    ]
}
